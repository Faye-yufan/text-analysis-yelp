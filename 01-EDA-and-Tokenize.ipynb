{
 "cells": [
  {
   "cell_type": "markdown",
   "metadata": {},
   "source": [
    "## EDA and Tokenize"
   ]
  },
  {
   "cell_type": "code",
   "execution_count": 1,
   "metadata": {},
   "outputs": [],
   "source": [
    "import pandas as pd"
   ]
  },
  {
   "cell_type": "code",
   "execution_count": 2,
   "metadata": {},
   "outputs": [],
   "source": [
    "import numpy as np\n",
    "import re\n",
    "import seaborn as sns\n",
    "import matplotlib.pyplot as plt\n"
   ]
  },
  {
   "cell_type": "code",
   "execution_count": 3,
   "metadata": {},
   "outputs": [
    {
     "data": {
      "text/html": [
       "<div>\n",
       "<style scoped>\n",
       "    .dataframe tbody tr th:only-of-type {\n",
       "        vertical-align: middle;\n",
       "    }\n",
       "\n",
       "    .dataframe tbody tr th {\n",
       "        vertical-align: top;\n",
       "    }\n",
       "\n",
       "    .dataframe thead th {\n",
       "        text-align: right;\n",
       "    }\n",
       "</style>\n",
       "<table border=\"1\" class=\"dataframe\">\n",
       "  <thead>\n",
       "    <tr style=\"text-align: right;\">\n",
       "      <th></th>\n",
       "      <th>Unnamed: 0</th>\n",
       "      <th>business_id</th>\n",
       "      <th>categories</th>\n",
       "      <th>review_id</th>\n",
       "      <th>user_id</th>\n",
       "      <th>stars</th>\n",
       "      <th>useful</th>\n",
       "      <th>text</th>\n",
       "      <th>date</th>\n",
       "      <th>user_review_count</th>\n",
       "    </tr>\n",
       "  </thead>\n",
       "  <tbody>\n",
       "    <tr>\n",
       "      <th>0</th>\n",
       "      <td>0</td>\n",
       "      <td>MTSW4McQd7CbVtyjqoe9mw</td>\n",
       "      <td>Restaurants, Food, Bubble Tea, Coffee &amp; Tea, B...</td>\n",
       "      <td>MKNp_CdR2k2202-c8GN5Dw</td>\n",
       "      <td>3-1va0IQfK-9tUMzfHWfTA</td>\n",
       "      <td>5</td>\n",
       "      <td>5</td>\n",
       "      <td>I ordered a graduation cake for my niece and i...</td>\n",
       "      <td>2018-05-20 17:58:57</td>\n",
       "      <td>28</td>\n",
       "    </tr>\n",
       "    <tr>\n",
       "      <th>1</th>\n",
       "      <td>1</td>\n",
       "      <td>UQssxfQY7LcLEtagk9ecog</td>\n",
       "      <td>Pakistani, Indian, Restaurants, Halal</td>\n",
       "      <td>0y3cVL5vdd9zpSDN-kaOIQ</td>\n",
       "      <td>3-1va0IQfK-9tUMzfHWfTA</td>\n",
       "      <td>5</td>\n",
       "      <td>1</td>\n",
       "      <td>I was pleasantly surprised when I dined here l...</td>\n",
       "      <td>2018-01-18 14:53:43</td>\n",
       "      <td>28</td>\n",
       "    </tr>\n",
       "    <tr>\n",
       "      <th>2</th>\n",
       "      <td>7</td>\n",
       "      <td>MTSW4McQd7CbVtyjqoe9mw</td>\n",
       "      <td>Restaurants, Food, Bubble Tea, Coffee &amp; Tea, B...</td>\n",
       "      <td>_hJu0u6nB-8LIeQJY4Vg4w</td>\n",
       "      <td>KQSRUu4Aapl0hG6eu2v8iw</td>\n",
       "      <td>4</td>\n",
       "      <td>1</td>\n",
       "      <td>This is my favorite bakery in Chinatown! I usu...</td>\n",
       "      <td>2018-03-17 23:47:25</td>\n",
       "      <td>759</td>\n",
       "    </tr>\n",
       "    <tr>\n",
       "      <th>3</th>\n",
       "      <td>10</td>\n",
       "      <td>2rQFgavS-942RapZTBSBTw</td>\n",
       "      <td>Italian, Pizza, Restaurants, American (Traditi...</td>\n",
       "      <td>pWJZOVlRYQoDth22olrjjg</td>\n",
       "      <td>KQSRUu4Aapl0hG6eu2v8iw</td>\n",
       "      <td>1</td>\n",
       "      <td>1</td>\n",
       "      <td>Edit: I don't know what happened. The service ...</td>\n",
       "      <td>2018-04-02 00:24:09</td>\n",
       "      <td>759</td>\n",
       "    </tr>\n",
       "    <tr>\n",
       "      <th>4</th>\n",
       "      <td>12</td>\n",
       "      <td>UNWb37aMC3nuWdszceGMxg</td>\n",
       "      <td>Restaurants, Pakistani, Indian</td>\n",
       "      <td>bTQSVdKqplptyJaynbBWJA</td>\n",
       "      <td>KQSRUu4Aapl0hG6eu2v8iw</td>\n",
       "      <td>3</td>\n",
       "      <td>2</td>\n",
       "      <td>I've ordered delivery and also ate in the rest...</td>\n",
       "      <td>2018-05-12 02:52:28</td>\n",
       "      <td>759</td>\n",
       "    </tr>\n",
       "  </tbody>\n",
       "</table>\n",
       "</div>"
      ],
      "text/plain": [
       "   Unnamed: 0             business_id  \\\n",
       "0           0  MTSW4McQd7CbVtyjqoe9mw   \n",
       "1           1  UQssxfQY7LcLEtagk9ecog   \n",
       "2           7  MTSW4McQd7CbVtyjqoe9mw   \n",
       "3          10  2rQFgavS-942RapZTBSBTw   \n",
       "4          12  UNWb37aMC3nuWdszceGMxg   \n",
       "\n",
       "                                          categories               review_id  \\\n",
       "0  Restaurants, Food, Bubble Tea, Coffee & Tea, B...  MKNp_CdR2k2202-c8GN5Dw   \n",
       "1              Pakistani, Indian, Restaurants, Halal  0y3cVL5vdd9zpSDN-kaOIQ   \n",
       "2  Restaurants, Food, Bubble Tea, Coffee & Tea, B...  _hJu0u6nB-8LIeQJY4Vg4w   \n",
       "3  Italian, Pizza, Restaurants, American (Traditi...  pWJZOVlRYQoDth22olrjjg   \n",
       "4                     Restaurants, Pakistani, Indian  bTQSVdKqplptyJaynbBWJA   \n",
       "\n",
       "                  user_id  stars  useful  \\\n",
       "0  3-1va0IQfK-9tUMzfHWfTA      5       5   \n",
       "1  3-1va0IQfK-9tUMzfHWfTA      5       1   \n",
       "2  KQSRUu4Aapl0hG6eu2v8iw      4       1   \n",
       "3  KQSRUu4Aapl0hG6eu2v8iw      1       1   \n",
       "4  KQSRUu4Aapl0hG6eu2v8iw      3       2   \n",
       "\n",
       "                                                text                 date  \\\n",
       "0  I ordered a graduation cake for my niece and i...  2018-05-20 17:58:57   \n",
       "1  I was pleasantly surprised when I dined here l...  2018-01-18 14:53:43   \n",
       "2  This is my favorite bakery in Chinatown! I usu...  2018-03-17 23:47:25   \n",
       "3  Edit: I don't know what happened. The service ...  2018-04-02 00:24:09   \n",
       "4  I've ordered delivery and also ate in the rest...  2018-05-12 02:52:28   \n",
       "\n",
       "   user_review_count  \n",
       "0                 28  \n",
       "1                 28  \n",
       "2                759  \n",
       "3                759  \n",
       "4                759  "
      ]
     },
     "execution_count": 3,
     "metadata": {},
     "output_type": "execute_result"
    }
   ],
   "source": [
    "yelp = pd.read_csv('yelp_review.csv')\n",
    "yelp.head()"
   ]
  },
  {
   "cell_type": "code",
   "execution_count": 4,
   "metadata": {},
   "outputs": [
    {
     "name": "stdout",
     "output_type": "stream",
     "text": [
      "<class 'pandas.core.frame.DataFrame'>\n",
      "RangeIndex: 641534 entries, 0 to 641533\n",
      "Data columns (total 9 columns):\n",
      " #   Column             Non-Null Count   Dtype \n",
      "---  ------             --------------   ----- \n",
      " 0   business_id        641534 non-null  object\n",
      " 1   categories         641534 non-null  object\n",
      " 2   review_id          641534 non-null  object\n",
      " 3   user_id            641534 non-null  object\n",
      " 4   stars              641534 non-null  int64 \n",
      " 5   useful             641534 non-null  int64 \n",
      " 6   text               641534 non-null  object\n",
      " 7   date               641534 non-null  object\n",
      " 8   user_review_count  641534 non-null  int64 \n",
      "dtypes: int64(3), object(6)\n",
      "memory usage: 44.1+ MB\n"
     ]
    }
   ],
   "source": [
    "if 'Unnamed: 0' in yelp.columns:\n",
    "    yelp = yelp.drop('Unnamed: 0', axis=1)\n",
    "yelp.info()"
   ]
  },
  {
   "cell_type": "code",
   "execution_count": 5,
   "metadata": {},
   "outputs": [
    {
     "data": {
      "text/plain": [
       "business_id                                     2rQFgavS-942RapZTBSBTw\n",
       "categories           Italian, Pizza, Restaurants, American (Traditi...\n",
       "review_id                                       pWJZOVlRYQoDth22olrjjg\n",
       "user_id                                         KQSRUu4Aapl0hG6eu2v8iw\n",
       "stars                                                                1\n",
       "useful                                                               1\n",
       "text                 Edit: I don't know what happened. The service ...\n",
       "date                                               2018-04-02 00:24:09\n",
       "user_review_count                                                  759\n",
       "Name: 3, dtype: object"
      ]
     },
     "execution_count": 5,
     "metadata": {},
     "output_type": "execute_result"
    }
   ],
   "source": [
    "yelp.iloc[3]"
   ]
  },
  {
   "cell_type": "markdown",
   "metadata": {},
   "source": [
    "EDA\n"
   ]
  },
  {
   "cell_type": "code",
   "execution_count": 6,
   "metadata": {},
   "outputs": [
    {
     "data": {
      "text/html": [
       "<div>\n",
       "<style scoped>\n",
       "    .dataframe tbody tr th:only-of-type {\n",
       "        vertical-align: middle;\n",
       "    }\n",
       "\n",
       "    .dataframe tbody tr th {\n",
       "        vertical-align: top;\n",
       "    }\n",
       "\n",
       "    .dataframe thead th {\n",
       "        text-align: right;\n",
       "    }\n",
       "</style>\n",
       "<table border=\"1\" class=\"dataframe\">\n",
       "  <thead>\n",
       "    <tr style=\"text-align: right;\">\n",
       "      <th></th>\n",
       "      <th>stars</th>\n",
       "      <th>useful</th>\n",
       "      <th>user_review_count</th>\n",
       "    </tr>\n",
       "  </thead>\n",
       "  <tbody>\n",
       "    <tr>\n",
       "      <th>count</th>\n",
       "      <td>641534.000000</td>\n",
       "      <td>641534.000000</td>\n",
       "      <td>641534.000000</td>\n",
       "    </tr>\n",
       "    <tr>\n",
       "      <th>mean</th>\n",
       "      <td>3.936473</td>\n",
       "      <td>2.671886</td>\n",
       "      <td>251.476399</td>\n",
       "    </tr>\n",
       "    <tr>\n",
       "      <th>std</th>\n",
       "      <td>1.254529</td>\n",
       "      <td>4.689409</td>\n",
       "      <td>506.754421</td>\n",
       "    </tr>\n",
       "    <tr>\n",
       "      <th>min</th>\n",
       "      <td>1.000000</td>\n",
       "      <td>1.000000</td>\n",
       "      <td>20.000000</td>\n",
       "    </tr>\n",
       "    <tr>\n",
       "      <th>25%</th>\n",
       "      <td>3.000000</td>\n",
       "      <td>1.000000</td>\n",
       "      <td>48.000000</td>\n",
       "    </tr>\n",
       "    <tr>\n",
       "      <th>50%</th>\n",
       "      <td>4.000000</td>\n",
       "      <td>1.000000</td>\n",
       "      <td>110.000000</td>\n",
       "    </tr>\n",
       "    <tr>\n",
       "      <th>75%</th>\n",
       "      <td>5.000000</td>\n",
       "      <td>3.000000</td>\n",
       "      <td>256.000000</td>\n",
       "    </tr>\n",
       "    <tr>\n",
       "      <th>max</th>\n",
       "      <td>5.000000</td>\n",
       "      <td>325.000000</td>\n",
       "      <td>17473.000000</td>\n",
       "    </tr>\n",
       "  </tbody>\n",
       "</table>\n",
       "</div>"
      ],
      "text/plain": [
       "               stars         useful  user_review_count\n",
       "count  641534.000000  641534.000000      641534.000000\n",
       "mean        3.936473       2.671886         251.476399\n",
       "std         1.254529       4.689409         506.754421\n",
       "min         1.000000       1.000000          20.000000\n",
       "25%         3.000000       1.000000          48.000000\n",
       "50%         4.000000       1.000000         110.000000\n",
       "75%         5.000000       3.000000         256.000000\n",
       "max         5.000000     325.000000       17473.000000"
      ]
     },
     "execution_count": 6,
     "metadata": {},
     "output_type": "execute_result"
    }
   ],
   "source": [
    "yelp.describe()"
   ]
  },
  {
   "cell_type": "code",
   "execution_count": 7,
   "metadata": {},
   "outputs": [
    {
     "name": "stdout",
     "output_type": "stream",
     "text": [
      "Number of Numerical features:  3\n",
      "Number of Categorical features:  6\n"
     ]
    }
   ],
   "source": [
    "numerical_feats = yelp.dtypes[yelp.dtypes != \"object\"].index\n",
    "print(\"Number of Numerical features: \", len(numerical_feats))\n",
    "categorical_feats = yelp.dtypes[yelp.dtypes == \"object\"].index\n",
    "print(\"Number of Categorical features: \", len(categorical_feats))"
   ]
  },
  {
   "cell_type": "code",
   "execution_count": 8,
   "metadata": {},
   "outputs": [
    {
     "name": "stdout",
     "output_type": "stream",
     "text": [
      "Index(['stars', 'useful', 'user_review_count'], dtype='object')\n",
      "****************************************************************************************************\n",
      "Index(['business_id', 'categories', 'review_id', 'user_id', 'text', 'date'], dtype='object')\n"
     ]
    }
   ],
   "source": [
    "print(yelp[numerical_feats].columns)\n",
    "print(\"*\"*100)\n",
    "print(yelp[categorical_feats].columns)"
   ]
  },
  {
   "cell_type": "code",
   "execution_count": 9,
   "metadata": {},
   "outputs": [
    {
     "data": {
      "text/plain": [
       "business_id                                     zznZqH9CiAznbkV6fXyHWA\n",
       "categories           Yoga, Food, Active Life, Fitness & Instruction...\n",
       "review_id                                       zzzlQD_iocCwpiCgz5mYRw\n",
       "user_id                                         zzz-M4QvkEpUWWPL9RTzLA\n",
       "stars                                                                5\n",
       "useful                                                             325\n",
       "text                 這是一家很有氣氛的餐廳  不會很吵鬧 \\n很適合浪漫的情侶或溫馨的家庭朋友聚會\\n我們點的每...\n",
       "date                                               2021-12-31 23:49:24\n",
       "user_review_count                                                17473\n",
       "dtype: object"
      ]
     },
     "execution_count": 9,
     "metadata": {},
     "output_type": "execute_result"
    }
   ],
   "source": [
    "yelp.max()"
   ]
  },
  {
   "cell_type": "code",
   "execution_count": 10,
   "metadata": {},
   "outputs": [
    {
     "data": {
      "text/html": [
       "<div>\n",
       "<style scoped>\n",
       "    .dataframe tbody tr th:only-of-type {\n",
       "        vertical-align: middle;\n",
       "    }\n",
       "\n",
       "    .dataframe tbody tr th {\n",
       "        vertical-align: top;\n",
       "    }\n",
       "\n",
       "    .dataframe thead th {\n",
       "        text-align: right;\n",
       "    }\n",
       "</style>\n",
       "<table border=\"1\" class=\"dataframe\">\n",
       "  <thead>\n",
       "    <tr style=\"text-align: right;\">\n",
       "      <th></th>\n",
       "      <th>business_id</th>\n",
       "      <th>categories</th>\n",
       "      <th>review_id</th>\n",
       "      <th>user_id</th>\n",
       "      <th>stars</th>\n",
       "      <th>useful</th>\n",
       "      <th>text</th>\n",
       "      <th>date</th>\n",
       "      <th>user_review_count</th>\n",
       "      <th>year</th>\n",
       "      <th>month</th>\n",
       "      <th>month_year</th>\n",
       "    </tr>\n",
       "  </thead>\n",
       "  <tbody>\n",
       "    <tr>\n",
       "      <th>0</th>\n",
       "      <td>MTSW4McQd7CbVtyjqoe9mw</td>\n",
       "      <td>Restaurants, Food, Bubble Tea, Coffee &amp; Tea, B...</td>\n",
       "      <td>MKNp_CdR2k2202-c8GN5Dw</td>\n",
       "      <td>3-1va0IQfK-9tUMzfHWfTA</td>\n",
       "      <td>5</td>\n",
       "      <td>5</td>\n",
       "      <td>I ordered a graduation cake for my niece and i...</td>\n",
       "      <td>2018-05-20 17:58:57</td>\n",
       "      <td>28</td>\n",
       "      <td>2018</td>\n",
       "      <td>5</td>\n",
       "      <td>2018-05</td>\n",
       "    </tr>\n",
       "    <tr>\n",
       "      <th>1</th>\n",
       "      <td>UQssxfQY7LcLEtagk9ecog</td>\n",
       "      <td>Pakistani, Indian, Restaurants, Halal</td>\n",
       "      <td>0y3cVL5vdd9zpSDN-kaOIQ</td>\n",
       "      <td>3-1va0IQfK-9tUMzfHWfTA</td>\n",
       "      <td>5</td>\n",
       "      <td>1</td>\n",
       "      <td>I was pleasantly surprised when I dined here l...</td>\n",
       "      <td>2018-01-18 14:53:43</td>\n",
       "      <td>28</td>\n",
       "      <td>2018</td>\n",
       "      <td>1</td>\n",
       "      <td>2018-01</td>\n",
       "    </tr>\n",
       "    <tr>\n",
       "      <th>2</th>\n",
       "      <td>MTSW4McQd7CbVtyjqoe9mw</td>\n",
       "      <td>Restaurants, Food, Bubble Tea, Coffee &amp; Tea, B...</td>\n",
       "      <td>_hJu0u6nB-8LIeQJY4Vg4w</td>\n",
       "      <td>KQSRUu4Aapl0hG6eu2v8iw</td>\n",
       "      <td>4</td>\n",
       "      <td>1</td>\n",
       "      <td>This is my favorite bakery in Chinatown! I usu...</td>\n",
       "      <td>2018-03-17 23:47:25</td>\n",
       "      <td>759</td>\n",
       "      <td>2018</td>\n",
       "      <td>3</td>\n",
       "      <td>2018-03</td>\n",
       "    </tr>\n",
       "    <tr>\n",
       "      <th>3</th>\n",
       "      <td>2rQFgavS-942RapZTBSBTw</td>\n",
       "      <td>Italian, Pizza, Restaurants, American (Traditi...</td>\n",
       "      <td>pWJZOVlRYQoDth22olrjjg</td>\n",
       "      <td>KQSRUu4Aapl0hG6eu2v8iw</td>\n",
       "      <td>1</td>\n",
       "      <td>1</td>\n",
       "      <td>Edit: I don't know what happened. The service ...</td>\n",
       "      <td>2018-04-02 00:24:09</td>\n",
       "      <td>759</td>\n",
       "      <td>2018</td>\n",
       "      <td>4</td>\n",
       "      <td>2018-04</td>\n",
       "    </tr>\n",
       "    <tr>\n",
       "      <th>4</th>\n",
       "      <td>UNWb37aMC3nuWdszceGMxg</td>\n",
       "      <td>Restaurants, Pakistani, Indian</td>\n",
       "      <td>bTQSVdKqplptyJaynbBWJA</td>\n",
       "      <td>KQSRUu4Aapl0hG6eu2v8iw</td>\n",
       "      <td>3</td>\n",
       "      <td>2</td>\n",
       "      <td>I've ordered delivery and also ate in the rest...</td>\n",
       "      <td>2018-05-12 02:52:28</td>\n",
       "      <td>759</td>\n",
       "      <td>2018</td>\n",
       "      <td>5</td>\n",
       "      <td>2018-05</td>\n",
       "    </tr>\n",
       "  </tbody>\n",
       "</table>\n",
       "</div>"
      ],
      "text/plain": [
       "              business_id                                         categories  \\\n",
       "0  MTSW4McQd7CbVtyjqoe9mw  Restaurants, Food, Bubble Tea, Coffee & Tea, B...   \n",
       "1  UQssxfQY7LcLEtagk9ecog              Pakistani, Indian, Restaurants, Halal   \n",
       "2  MTSW4McQd7CbVtyjqoe9mw  Restaurants, Food, Bubble Tea, Coffee & Tea, B...   \n",
       "3  2rQFgavS-942RapZTBSBTw  Italian, Pizza, Restaurants, American (Traditi...   \n",
       "4  UNWb37aMC3nuWdszceGMxg                     Restaurants, Pakistani, Indian   \n",
       "\n",
       "                review_id                 user_id  stars  useful  \\\n",
       "0  MKNp_CdR2k2202-c8GN5Dw  3-1va0IQfK-9tUMzfHWfTA      5       5   \n",
       "1  0y3cVL5vdd9zpSDN-kaOIQ  3-1va0IQfK-9tUMzfHWfTA      5       1   \n",
       "2  _hJu0u6nB-8LIeQJY4Vg4w  KQSRUu4Aapl0hG6eu2v8iw      4       1   \n",
       "3  pWJZOVlRYQoDth22olrjjg  KQSRUu4Aapl0hG6eu2v8iw      1       1   \n",
       "4  bTQSVdKqplptyJaynbBWJA  KQSRUu4Aapl0hG6eu2v8iw      3       2   \n",
       "\n",
       "                                                text                 date  \\\n",
       "0  I ordered a graduation cake for my niece and i...  2018-05-20 17:58:57   \n",
       "1  I was pleasantly surprised when I dined here l...  2018-01-18 14:53:43   \n",
       "2  This is my favorite bakery in Chinatown! I usu...  2018-03-17 23:47:25   \n",
       "3  Edit: I don't know what happened. The service ...  2018-04-02 00:24:09   \n",
       "4  I've ordered delivery and also ate in the rest...  2018-05-12 02:52:28   \n",
       "\n",
       "   user_review_count  year  month month_year  \n",
       "0                 28  2018      5    2018-05  \n",
       "1                 28  2018      1    2018-01  \n",
       "2                759  2018      3    2018-03  \n",
       "3                759  2018      4    2018-04  \n",
       "4                759  2018      5    2018-05  "
      ]
     },
     "execution_count": 10,
     "metadata": {},
     "output_type": "execute_result"
    }
   ],
   "source": [
    "temp_df_1 = yelp.copy()\n",
    "temp_df_1['year'] = pd.DatetimeIndex(temp_df_1['date']).year\n",
    "temp_df_1.head()\n",
    "temp_df_1['month'] = pd.DatetimeIndex(temp_df_1['date']).month\n",
    "temp_df_1.head()\n",
    "temp_df_1['month_year'] = pd.to_datetime(temp_df_1['date']).dt.to_period('M')\n",
    "temp_df_1.head()"
   ]
  },
  {
   "cell_type": "code",
   "execution_count": 11,
   "metadata": {},
   "outputs": [
    {
     "data": {
      "text/plain": [
       "Text(0.5, 1.0, 'text length in different years')"
      ]
     },
     "execution_count": 11,
     "metadata": {},
     "output_type": "execute_result"
    },
    {
     "data": {
      "image/png": "[encoded data removed]",
      "text/plain": [
       "<Figure size 640x480 with 1 Axes>"
      ]
     },
     "metadata": {},
     "output_type": "display_data"
    }
   ],
   "source": [
    "#text length decrease according to the time\n",
    "temp_df_1['text_length'] = temp_df_1['text'].apply(lambda x: len(x))\n",
    "sns.barplot(data=temp_df_1, x='year', y= 'text_length')\n",
    "plt.title('text length in different years')"
   ]
  },
  {
   "cell_type": "code",
   "execution_count": 12,
   "metadata": {},
   "outputs": [
    {
     "data": {
      "text/plain": [
       "Text(0.5, 1.0, 'useful condition according to time')"
      ]
     },
     "execution_count": 12,
     "metadata": {},
     "output_type": "execute_result"
    },
    {
     "data": {
      "image/png": "[encoded data removed]",
      "text/plain": [
       "<Figure size 640x480 with 1 Axes>"
      ]
     },
     "metadata": {},
     "output_type": "display_data"
    }
   ],
   "source": [
    "sns.barplot(data=temp_df_1, x='year', y ='useful')\n",
    "plt.title('useful condition according to time')"
   ]
  },
  {
   "cell_type": "code",
   "execution_count": 13,
   "metadata": {},
   "outputs": [
    {
     "data": {
      "text/plain": [
       "Text(0.5, 1.0, 'Distribution of text length')"
      ]
     },
     "execution_count": 13,
     "metadata": {},
     "output_type": "execute_result"
    },
    {
     "data": {
      "image/png": "[encoded data removed]",
      "text/plain": [
       "<Figure size 640x480 with 1 Axes>"
      ]
     },
     "metadata": {},
     "output_type": "display_data"
    }
   ],
   "source": [
    "temp_df = yelp.copy()\n",
    "temp_df['text_length'] = temp_df['text'].apply(lambda x: len(x))\n",
    "sns.histplot(data=temp_df, x='text_length', hue='stars', kde=True)\n",
    "plt.title('Distribution of text length')"
   ]
  },
  {
   "cell_type": "code",
   "execution_count": 14,
   "metadata": {},
   "outputs": [
    {
     "name": "stdout",
     "output_type": "stream",
     "text": [
      "There are 462966372 words in the combination of all review.\n"
     ]
    }
   ],
   "source": [
    "text = \" \".join(review for review in yelp.text)\n",
    "print (\"There are {} words in the combination of all review.\".format(len(text)))"
   ]
  },
  {
   "cell_type": "markdown",
   "metadata": {},
   "source": [
    "### Data Processing and Tokenization/TF-IDF"
   ]
  },
  {
   "cell_type": "code",
   "execution_count": 17,
   "metadata": {},
   "outputs": [],
   "source": [
    "from gensim.parsing.preprocessing import remove_stopwords, STOPWORDS\n",
    "#https://zhuanlan.zhihu.com/p/37175253\n",
    "#https://blog.csdn.net/u012436149/article/details/79321112\n",
    "from nltk.stem.snowball import SnowballStemmer\n",
    "from nltk.stem.wordnet import WordNetLemmatizer\n",
    "import nltk\n",
    "# nltk.download('words')\n",
    "from sklearn.feature_extraction.text import TfidfVectorizer"
   ]
  },
  {
   "cell_type": "code",
   "execution_count": 18,
   "metadata": {},
   "outputs": [],
   "source": [
    "def preprocess_text(text, stem=False):\n",
    "    text = text.lower()\n",
    "    # delete special characters\n",
    "    text = re.sub(r'[^a-zA-Z0-9 ]', '', text)\n",
    "    # delete links\n",
    "    text = re.sub(r'http\\S+', '', text)\n",
    "    # delete multispaces\n",
    "    text = re.sub('\\s\\s+', ' ', text)\n",
    "    # delete digits\n",
    "    text = re.sub(r'[0-9]+', '', text)\n",
    "    # delete stop words\n",
    "    text = text.split(' ')\n",
    "    text = ' '.join([word for word in text if not word in STOPWORDS])\n",
    "#     text = [word for word in text if not word in STOPWORDS]\n",
    "         \n",
    "#     engWords = set(nltk.corpus.words.words())\n",
    "#     text = ' '.join([word.lower() for word in text if word in engWords])\n",
    "    \n",
    "    text = remove_stopwords(text)\n",
    "    if stem:\n",
    "        stem = SnowballStemmer(language='english')\n",
    "        text = ' '.join([stem.stem(word) for word in text.split(' ')])\n",
    "    else:\n",
    "        lemmatizer = WordNetLemmatizer()\n",
    "        text = ' '.join([lemmatizer.lemmatize(word) for word in text.split(' ')])\n",
    "    text = text.strip()\n",
    "    return text"
   ]
  },
  {
   "cell_type": "code",
   "execution_count": 19,
   "metadata": {},
   "outputs": [],
   "source": [
    "def tokenize_word(text, stem=True):\n",
    "    text = text.lower()\n",
    "    # delete special characters\n",
    "    text = re.sub(r'[^a-zA-Z0-9 ]', '', text)\n",
    "    # delete links\n",
    "    text = re.sub(r'http\\S+', '', text)\n",
    "    # delete multispaces\n",
    "    text = re.sub('\\s\\s+', ' ', text)\n",
    "    # delete digits\n",
    "    text = re.sub(r'[0-9]+', '', text)\n",
    "    # delete stop words\n",
    "    text = text.split(' ')\n",
    "    text = ' '.join([word for word in text if not word in STOPWORDS])\n",
    "    \n",
    "#     engWords = set(nltk.corpus.words.words())\n",
    "#     text = [word.lower() for word in noPuncWords if word in engWords and \\\n",
    "#                        word not in nltk.corpus.stopwords.words('english')]\n",
    "    \n",
    "    text = remove_stopwords(text)\n",
    "    if stem:\n",
    "        stem = SnowballStemmer(language='english')\n",
    "        text = ' '.join([stem.stem(word) for word in text.split(' ')])\n",
    "    else:\n",
    "        lemmatizer = WordNetLemmatizer()\n",
    "        text = ' '.join([lemmatizer.lemmatize(word) for word in text.split(' ')])\n",
    "    text = text.strip()\n",
    "    return text.split(' ')"
   ]
  },
  {
   "cell_type": "code",
   "execution_count": 20,
   "metadata": {},
   "outputs": [
    {
     "data": {
      "text/plain": [
       "'order graduat cake niec came absolut perfect come futur event staff nice cake good'"
      ]
     },
     "execution_count": 20,
     "metadata": {},
     "output_type": "execute_result"
    }
   ],
   "source": [
    "preprocess_text(yelp['text'][0], stem=True)"
   ]
  },
  {
   "cell_type": "code",
   "execution_count": 21,
   "metadata": {
    "scrolled": true
   },
   "outputs": [
    {
     "data": {
      "text/plain": [
       "['order',\n",
       " 'graduat',\n",
       " 'cake',\n",
       " 'niec',\n",
       " 'came',\n",
       " 'absolut',\n",
       " 'perfect',\n",
       " 'come',\n",
       " 'futur',\n",
       " 'event',\n",
       " 'staff',\n",
       " 'nice',\n",
       " 'cake',\n",
       " 'good']"
      ]
     },
     "execution_count": 21,
     "metadata": {},
     "output_type": "execute_result"
    }
   ],
   "source": [
    "tokenize_word(yelp['text'][0], stem=True)"
   ]
  },
  {
   "cell_type": "code",
   "execution_count": 22,
   "metadata": {},
   "outputs": [],
   "source": [
    "from tqdm import tqdm"
   ]
  },
  {
   "cell_type": "code",
   "execution_count": 23,
   "metadata": {},
   "outputs": [
    {
     "name": "stderr",
     "output_type": "stream",
     "text": [
      "[nltk_data] Downloading package wordnet to /Users/fei/nltk_data...\n",
      "[nltk_data]   Package wordnet is already up-to-date!\n"
     ]
    },
    {
     "data": {
      "text/plain": [
       "True"
      ]
     },
     "execution_count": 23,
     "metadata": {},
     "output_type": "execute_result"
    }
   ],
   "source": [
    "import nltk\n",
    "nltk.download('wordnet')"
   ]
  },
  {
   "cell_type": "code",
   "execution_count": 24,
   "metadata": {},
   "outputs": [],
   "source": [
    "import os.path\n",
    "\n",
    "# if the preprocessed csv not exist in the dir, generate it first\n",
    "if not os.path.isfile('yelp_review_nostop_punc_engOnly_lem.csv') :\n",
    "    yelp = pd.read_csv('yelp_review.csv')\n",
    "    if 'Unnamed: 0' in yelp.columns:\n",
    "        yelp = yelp.drop('Unnamed: 0', axis=1)\n",
    "    for i in tqdm(range(len(yelp))):\n",
    "        yelp.loc[i,'text']  = preprocess_text(yelp.loc[i,'text'], stem=False)\n",
    "    yelp.to_csv('yelp_review_nostop_punc_engOnly_lem.csv')"
   ]
  },
  {
   "cell_type": "code",
   "execution_count": 25,
   "metadata": {},
   "outputs": [],
   "source": [
    "yelp = pd.read_csv('yelp_review_nostop_punc_engOnly_lem.csv')"
   ]
  },
  {
   "cell_type": "code",
   "execution_count": 26,
   "metadata": {},
   "outputs": [],
   "source": [
    "corpus = yelp[\"text\"].apply(str).to_list()"
   ]
  },
  {
   "cell_type": "code",
   "execution_count": 27,
   "metadata": {},
   "outputs": [
    {
     "data": {
      "text/plain": [
       "(641534, 65036)"
      ]
     },
     "execution_count": 27,
     "metadata": {},
     "output_type": "execute_result"
    }
   ],
   "source": [
    "vectorizer = TfidfVectorizer(\n",
    "    max_df=0.5,\n",
    "    min_df=5,\n",
    "    stop_words=\"english\",\n",
    "    )\n",
    "X_tfidf = vectorizer.fit_transform(corpus)\n",
    "X_tfidf.shape"
   ]
  },
  {
   "cell_type": "code",
   "execution_count": 28,
   "metadata": {},
   "outputs": [
    {
     "name": "stdout",
     "output_type": "stream",
     "text": [
      "We find that around 0.074% of the entries of the X_tfidf matrix are non-zero.\n"
     ]
    }
   ],
   "source": [
    "print(f\"We find that around {X_tfidf.nnz / np.prod(X_tfidf.shape) * 100:.3f}% of the entries of the X_tfidf matrix are non-zero.\")"
   ]
  },
  {
   "cell_type": "code",
   "execution_count": null,
   "metadata": {},
   "outputs": [],
   "source": []
  }
 ],
 "metadata": {
  "kernelspec": {
   "display_name": "Python 3 (ipykernel)",
   "language": "python",
   "name": "python3"
  },
  "language_info": {
   "codemirror_mode": {
    "name": "ipython",
    "version": 3
   },
   "file_extension": ".py",
   "mimetype": "text/x-python",
   "name": "python",
   "nbconvert_exporter": "python",
   "pygments_lexer": "ipython3",
   "version": "3.10.4"
  }
 },
 "nbformat": 4,
 "nbformat_minor": 4
}
