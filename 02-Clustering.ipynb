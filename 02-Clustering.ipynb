{
 "cells": [
  {
   "cell_type": "code",
   "execution_count": 1,
   "id": "2655ae37",
   "metadata": {},
   "outputs": [],
   "source": [
    "import numpy as np\n",
    "import pandas as pd\n",
    "\n",
    "import matplotlib.pyplot as plt\n",
    "import seaborn as sns\n",
    "from wordcloud import WordCloud, STOPWORDS, ImageColorGenerator\n",
    "\n",
    "from gensim.parsing.preprocessing import remove_stopwords, STOPWORDS\n",
    "from nltk.stem.snowball import SnowballStemmer\n",
    "from nltk.stem.wordnet import WordNetLemmatizer\n",
    "from sklearn.feature_extraction.text import TfidfVectorizer\n",
    "from sklearn import metrics\n",
    "\n",
    "import json\n",
    "import re\n",
    "import string\n",
    "import nltk\n",
    "# nltk.download('stopwords')\n",
    "# nltk.download('words')\n",
    "# nltk.download('wordnet')\n",
    "# nltk.download('omw-1.4')\n",
    "\n",
    "from tqdm import tqdm\n",
    "import joblib"
   ]
  },
  {
   "cell_type": "code",
   "execution_count": 2,
   "id": "07e7a272",
   "metadata": {},
   "outputs": [],
   "source": [
    "def preprocess_text(text, stem=False):\n",
    "    text = text.lower()\n",
    "    # delete special characters\n",
    "    text = re.sub(r'[^a-zA-Z0-9 ]', '', text)\n",
    "    # delete links\n",
    "    text = re.sub(r'http\\S+', '', text)\n",
    "    # delete multispaces\n",
    "    text = re.sub('\\s\\s+', ' ', text)\n",
    "    # delete digits\n",
    "    text = re.sub(r'[0-9]+', '', text)\n",
    "    # delete stop words\n",
    "    text = text.split(' ')\n",
    "    text = ' '.join([word for word in text if not word in STOPWORDS])\n",
    "    \n",
    "    text = remove_stopwords(text)\n",
    "    if stem:\n",
    "        stem = SnowballStemmer(language='english')\n",
    "        text = ' '.join([stem.stem(word) for word in text.split(' ')])\n",
    "    else:\n",
    "        lemmatizer = WordNetLemmatizer()\n",
    "        text = ' '.join([lemmatizer.lemmatize(word) for word in text.split(' ')])\n",
    "    text = text.strip()\n",
    "    return text"
   ]
  },
  {
   "cell_type": "code",
   "execution_count": 3,
   "id": "6737e0e9",
   "metadata": {},
   "outputs": [],
   "source": [
    "import os.path\n",
    "\n",
    "if not os.path.isfile('yelp_review_nostop_punc_engOnly_lem.csv') :\n",
    "    yelp = pd.read_csv('yelp_review.csv')\n",
    "    if 'Unnamed: 0' in yelp.columns:\n",
    "        yelp = yelp.drop('Unnamed: 0', axis=1)\n",
    "    for i in tqdm(range(len(yelp))):\n",
    "        yelp.loc[i,'text']  = preprocess_text(yelp.loc[i,'text'], stem=False)\n",
    "    yelp.to_csv('yelp_review_nostop_punc_engOnly_lem.csv')"
   ]
  },
  {
   "cell_type": "code",
   "execution_count": 4,
   "id": "463a1cc5",
   "metadata": {},
   "outputs": [],
   "source": [
    "# 'yelp_review_nostop_punc_engOnly.csv' is using SnowballStemmer\n",
    "# 'yelp_review_nostop_punc_engOnly_lem.csv' is using WordNetLemmatizer\n",
    "\n",
    "yelp = pd.read_csv('yelp_review_nostop_punc_engOnly_lem.csv')"
   ]
  },
  {
   "cell_type": "code",
   "execution_count": 5,
   "id": "7dc7d741",
   "metadata": {},
   "outputs": [],
   "source": [
    "import random\n",
    "from random import sample\n",
    "\n",
    "random.seed(5)\n",
    "\n",
    "corpus = sample(yelp[\"text\"].apply(str).to_list(), 50000)\n",
    "# corpus = yelp[\"text\"].apply(str).to_list()"
   ]
  },
  {
   "cell_type": "code",
   "execution_count": 6,
   "id": "12dbeec3",
   "metadata": {},
   "outputs": [
    {
     "data": {
      "text/plain": [
       "(50000, 15449)"
      ]
     },
     "execution_count": 6,
     "metadata": {},
     "output_type": "execute_result"
    }
   ],
   "source": [
    "vectorizer = TfidfVectorizer(\n",
    "    max_df=0.5,\n",
    "    min_df=5,\n",
    "    stop_words=\"english\",\n",
    "    )\n",
    "X_tfidf = vectorizer.fit_transform(corpus)\n",
    "X_tfidf.shape\n",
    "# 26s"
   ]
  },
  {
   "cell_type": "code",
   "execution_count": 7,
   "id": "347f005e",
   "metadata": {},
   "outputs": [
    {
     "name": "stdout",
     "output_type": "stream",
     "text": [
      "50000 rows\n"
     ]
    },
    {
     "data": {
      "text/html": [
       "<div>\n",
       "<style scoped>\n",
       "    .dataframe tbody tr th:only-of-type {\n",
       "        vertical-align: middle;\n",
       "    }\n",
       "\n",
       "    .dataframe tbody tr th {\n",
       "        vertical-align: top;\n",
       "    }\n",
       "\n",
       "    .dataframe thead th {\n",
       "        text-align: right;\n",
       "    }\n",
       "</style>\n",
       "<table border=\"1\" class=\"dataframe\">\n",
       "  <thead>\n",
       "    <tr style=\"text-align: right;\">\n",
       "      <th></th>\n",
       "      <th>0</th>\n",
       "      <th>1</th>\n",
       "      <th>2</th>\n",
       "      <th>3</th>\n",
       "      <th>4</th>\n",
       "      <th>5</th>\n",
       "      <th>6</th>\n",
       "      <th>7</th>\n",
       "      <th>8</th>\n",
       "      <th>9</th>\n",
       "      <th>...</th>\n",
       "      <th>49990</th>\n",
       "      <th>49991</th>\n",
       "      <th>49992</th>\n",
       "      <th>49993</th>\n",
       "      <th>49994</th>\n",
       "      <th>49995</th>\n",
       "      <th>49996</th>\n",
       "      <th>49997</th>\n",
       "      <th>49998</th>\n",
       "      <th>49999</th>\n",
       "    </tr>\n",
       "  </thead>\n",
       "  <tbody>\n",
       "    <tr>\n",
       "      <th>quiet</th>\n",
       "      <td>0.251073</td>\n",
       "      <td>0.0</td>\n",
       "      <td>0.0</td>\n",
       "      <td>0.000000</td>\n",
       "      <td>0.0</td>\n",
       "      <td>0.000000</td>\n",
       "      <td>0.0</td>\n",
       "      <td>0.000000</td>\n",
       "      <td>0.0</td>\n",
       "      <td>0.0</td>\n",
       "      <td>...</td>\n",
       "      <td>0.000000</td>\n",
       "      <td>0.000000</td>\n",
       "      <td>0.000000</td>\n",
       "      <td>0.0</td>\n",
       "      <td>0.0</td>\n",
       "      <td>0.000000</td>\n",
       "      <td>0.000000</td>\n",
       "      <td>0.0</td>\n",
       "      <td>0.0</td>\n",
       "      <td>0.0</td>\n",
       "    </tr>\n",
       "    <tr>\n",
       "      <th>little</th>\n",
       "      <td>0.250268</td>\n",
       "      <td>0.0</td>\n",
       "      <td>0.0</td>\n",
       "      <td>0.000000</td>\n",
       "      <td>0.0</td>\n",
       "      <td>0.118622</td>\n",
       "      <td>0.0</td>\n",
       "      <td>0.036499</td>\n",
       "      <td>0.0</td>\n",
       "      <td>0.0</td>\n",
       "      <td>...</td>\n",
       "      <td>0.044041</td>\n",
       "      <td>0.164711</td>\n",
       "      <td>0.068651</td>\n",
       "      <td>0.0</td>\n",
       "      <td>0.0</td>\n",
       "      <td>0.032795</td>\n",
       "      <td>0.000000</td>\n",
       "      <td>0.0</td>\n",
       "      <td>0.0</td>\n",
       "      <td>0.0</td>\n",
       "    </tr>\n",
       "    <tr>\n",
       "      <th>play</th>\n",
       "      <td>0.246206</td>\n",
       "      <td>0.0</td>\n",
       "      <td>0.0</td>\n",
       "      <td>0.106731</td>\n",
       "      <td>0.0</td>\n",
       "      <td>0.000000</td>\n",
       "      <td>0.0</td>\n",
       "      <td>0.071814</td>\n",
       "      <td>0.0</td>\n",
       "      <td>0.0</td>\n",
       "      <td>...</td>\n",
       "      <td>0.000000</td>\n",
       "      <td>0.000000</td>\n",
       "      <td>0.000000</td>\n",
       "      <td>0.0</td>\n",
       "      <td>0.0</td>\n",
       "      <td>0.000000</td>\n",
       "      <td>0.000000</td>\n",
       "      <td>0.0</td>\n",
       "      <td>0.0</td>\n",
       "      <td>0.0</td>\n",
       "    </tr>\n",
       "    <tr>\n",
       "      <th>tucson</th>\n",
       "      <td>0.244286</td>\n",
       "      <td>0.0</td>\n",
       "      <td>0.0</td>\n",
       "      <td>0.000000</td>\n",
       "      <td>0.0</td>\n",
       "      <td>0.000000</td>\n",
       "      <td>0.0</td>\n",
       "      <td>0.000000</td>\n",
       "      <td>0.0</td>\n",
       "      <td>0.0</td>\n",
       "      <td>...</td>\n",
       "      <td>0.000000</td>\n",
       "      <td>0.000000</td>\n",
       "      <td>0.000000</td>\n",
       "      <td>0.0</td>\n",
       "      <td>0.0</td>\n",
       "      <td>0.000000</td>\n",
       "      <td>0.166567</td>\n",
       "      <td>0.0</td>\n",
       "      <td>0.0</td>\n",
       "      <td>0.0</td>\n",
       "    </tr>\n",
       "    <tr>\n",
       "      <th>guacamole</th>\n",
       "      <td>0.242367</td>\n",
       "      <td>0.0</td>\n",
       "      <td>0.0</td>\n",
       "      <td>0.000000</td>\n",
       "      <td>0.0</td>\n",
       "      <td>0.000000</td>\n",
       "      <td>0.0</td>\n",
       "      <td>0.000000</td>\n",
       "      <td>0.0</td>\n",
       "      <td>0.0</td>\n",
       "      <td>...</td>\n",
       "      <td>0.000000</td>\n",
       "      <td>0.000000</td>\n",
       "      <td>0.000000</td>\n",
       "      <td>0.0</td>\n",
       "      <td>0.0</td>\n",
       "      <td>0.000000</td>\n",
       "      <td>0.000000</td>\n",
       "      <td>0.0</td>\n",
       "      <td>0.0</td>\n",
       "      <td>0.0</td>\n",
       "    </tr>\n",
       "  </tbody>\n",
       "</table>\n",
       "<p>5 rows × 50000 columns</p>\n",
       "</div>"
      ],
      "text/plain": [
       "              0      1      2         3      4         5      6         7      \\\n",
       "quiet      0.251073    0.0    0.0  0.000000    0.0  0.000000    0.0  0.000000   \n",
       "little     0.250268    0.0    0.0  0.000000    0.0  0.118622    0.0  0.036499   \n",
       "play       0.246206    0.0    0.0  0.106731    0.0  0.000000    0.0  0.071814   \n",
       "tucson     0.244286    0.0    0.0  0.000000    0.0  0.000000    0.0  0.000000   \n",
       "guacamole  0.242367    0.0    0.0  0.000000    0.0  0.000000    0.0  0.000000   \n",
       "\n",
       "           8      9      ...     49990     49991     49992  49993  49994  \\\n",
       "quiet        0.0    0.0  ...  0.000000  0.000000  0.000000    0.0    0.0   \n",
       "little       0.0    0.0  ...  0.044041  0.164711  0.068651    0.0    0.0   \n",
       "play         0.0    0.0  ...  0.000000  0.000000  0.000000    0.0    0.0   \n",
       "tucson       0.0    0.0  ...  0.000000  0.000000  0.000000    0.0    0.0   \n",
       "guacamole    0.0    0.0  ...  0.000000  0.000000  0.000000    0.0    0.0   \n",
       "\n",
       "              49995     49996  49997  49998  49999  \n",
       "quiet      0.000000  0.000000    0.0    0.0    0.0  \n",
       "little     0.032795  0.000000    0.0    0.0    0.0  \n",
       "play       0.000000  0.000000    0.0    0.0    0.0  \n",
       "tucson     0.000000  0.166567    0.0    0.0    0.0  \n",
       "guacamole  0.000000  0.000000    0.0    0.0    0.0  \n",
       "\n",
       "[5 rows x 50000 columns]"
      ]
     },
     "execution_count": 7,
     "metadata": {},
     "output_type": "execute_result"
    }
   ],
   "source": [
    "tf_idf = pd.DataFrame(data = X_tfidf.toarray(), columns=vectorizer.get_feature_names_out())\n",
    "\n",
    "final_df = tf_idf\n",
    "\n",
    "print(\"{} rows\".format(final_df.shape[0]))\n",
    "final_df.T.nlargest(5, 0)"
   ]
  },
  {
   "cell_type": "code",
   "execution_count": 8,
   "id": "357fb3c6",
   "metadata": {},
   "outputs": [
    {
     "name": "stdout",
     "output_type": "stream",
     "text": [
      "We find that around 0.306% of the entries of the X_tfidf matrix are non-zero.\n"
     ]
    }
   ],
   "source": [
    "print(f\"We find that around {X_tfidf.nnz / np.prod(X_tfidf.shape) * 100:.3f}% of the entries of the X_tfidf matrix are non-zero.\")"
   ]
  },
  {
   "cell_type": "code",
   "execution_count": 9,
   "id": "518b7399",
   "metadata": {},
   "outputs": [],
   "source": [
    "from sklearn.cluster import KMeans\n",
    "\n",
    "def fit_diff_n_clusters_and_evaluation(X_tfidf, n_clusters: list):\n",
    "    evaluation = pd.DataFrame(columns=[\"n_clusters\", \"Sum of Squared Distance\", \n",
    "                                       \"Davies-Bouldin Score\", \"Silhouette Coefficient\"])\n",
    "    for n_c in n_clusters:\n",
    "        kmeans = KMeans(\n",
    "            n_clusters=n_c,\n",
    "            max_iter=100,\n",
    "            n_init=5,\n",
    "        )\n",
    "        kmeans.set_params(random_state=42)\n",
    "        kmeans.fit(X_tfidf)\n",
    "        db_score = metrics.davies_bouldin_score(X_tfidf.toarray(), kmeans.labels_)\n",
    "        silhouette_score = metrics.silhouette_score(X_tfidf.toarray(), kmeans.labels_, sample_size=2000)\n",
    "        evaluation.loc[len(evaluation),] = [n_c, kmeans.inertia_, db_score, silhouette_score]\n",
    "    return evaluation"
   ]
  },
  {
   "cell_type": "code",
   "execution_count": 10,
   "id": "e6467e46",
   "metadata": {
    "scrolled": false
   },
   "outputs": [],
   "source": [
    "silhouette_and_dbi = fit_diff_n_clusters_and_evaluation(X_tfidf, range(2, 20))\n",
    "silhouette_and_dbi.to_csv('evaluation_scores.csv')  "
   ]
  },
  {
   "cell_type": "code",
   "execution_count": 11,
   "id": "dfca5ef3",
   "metadata": {},
   "outputs": [
    {
     "name": "stderr",
     "output_type": "stream",
     "text": [
      "100%|███████████████████████████████████████| 148/148 [1:04:29<00:00, 26.15s/it]\n"
     ]
    }
   ],
   "source": [
    "from tqdm import tqdm\n",
    "def get_ssd(X_tfidf, n_clusters: list):\n",
    "    evaluation = pd.DataFrame(columns=[\"n_clusters\", \"Sum of Squared Distance\", \n",
    "                                       \"Davies-Bouldin Score\", \"Silhouette Coefficient\"])\n",
    "    for n_c in tqdm(n_clusters):\n",
    "        kmeans = KMeans(\n",
    "            n_clusters=n_c,\n",
    "            max_iter=100,\n",
    "            n_init=5,\n",
    "        )\n",
    "        kmeans.set_params(random_state=42)\n",
    "        kmeans.fit(X_tfidf)\n",
    "#         db_score = metrics.davies_bouldin_score(X_tfidf.toarray(), kmeans.labels_)\n",
    "#         silhouette_score = metrics.silhouette_score(X_tfidf.toarray(), kmeans.labels_, sample_size=2000)\n",
    "        evaluation.loc[len(evaluation),] = [n_c, kmeans.inertia_, 0, 0]\n",
    "    return evaluation\n",
    "\n",
    "ssd = get_ssd(X_tfidf, range(2, 150))"
   ]
  },
  {
   "cell_type": "code",
   "execution_count": 12,
   "id": "6fe5b3a3",
   "metadata": {},
   "outputs": [],
   "source": [
    "from sklearn.cluster import AgglomerativeClustering\n",
    "\n",
    "\n",
    "def fit_diff_n_clusters_and_evaluation_agg(X_tfidf, n_clusters: list):\n",
    "    evaluation = pd.DataFrame(columns=[\"n_clusters\", \"Davies-Bouldin Score\", \"Silhouette Coefficient\"])\n",
    "    for n_c in n_clusters:\n",
    "        agg = AgglomerativeClustering(distance_threshold=0, n_clusters=n_c)\n",
    "        agg.set_params(random_state=42)\n",
    "        agg.fit(X_tfidf)\n",
    "        db_score = metrics.davies_bouldin_score(X_tfidf.toarray(), kmeans.labels_)\n",
    "        silhouette_score = metrics.silhouette_score(X_tfidf.toarray(), kmeans.labels_, sample_size=2000)\n",
    "        evaluation.loc[len(evaluation),] = [n_c, db_score, silhouette_score]\n",
    "    return evaluation"
   ]
  },
  {
   "cell_type": "code",
   "execution_count": 13,
   "id": "9bfd02c6",
   "metadata": {},
   "outputs": [],
   "source": [
    "ssd.to_csv('sumofSquaredDistance.csv')  "
   ]
  },
  {
   "cell_type": "code",
   "execution_count": 22,
   "id": "e8171fa4",
   "metadata": {},
   "outputs": [
    {
     "data": {
      "image/png": "[encoded data removed]",
      "text/plain": [
       "<Figure size 1700x300 with 3 Axes>"
      ]
     },
     "metadata": {},
     "output_type": "display_data"
    }
   ],
   "source": [
    "import seaborn as sns\n",
    "import matplotlib.pyplot as plt\n",
    "\n",
    "scores = pd.read_csv('evaluation_scores.csv', index_col=0)\n",
    "# plt.plot(scores.n_clusters, scores[\"Silhouette Coefficient\"])\n",
    "\n",
    "markers_on = [8]\n",
    "plt.figure(figsize=(17,3))\n",
    "\n",
    "plt.subplot(1, 3, 1)\n",
    "sns.lineplot(x = \"n_clusters\", y = \"Silhouette Coefficient\",data=scores)\n",
    "sns.set_palette(\"rocket\")\n",
    "plt.xticks([2,4,6,8,10,12,14,16,18,20])\n",
    "plt.axvspan(12, 20, color='red', alpha=0.1)\n",
    "# plt.plot(marker=\"v\", markevery=[8])\n",
    "plt.grid()\n",
    "\n",
    "plt.subplot(1, 3, 2)\n",
    "sns.lineplot(x = \"n_clusters\", y = \"Davies-Bouldin Score\",data=scores)\n",
    "sns.set_palette(\"rocket\")\n",
    "plt.xticks([2,4,6,8,10,12,14,16,18,20])\n",
    "plt.axvspan(12, 20, color='red', alpha=0.1)\n",
    "plt.grid()\n",
    "\n",
    "plt.subplot(1, 3, 3)\n",
    "sns.lineplot(x = \"n_clusters\", y = \"Sum of Squared Distance\",data=ssd)\n",
    "sns.set_palette(\"rocket\")\n",
    "\n",
    "# plt.xticks([2,3,4,5,6,7,8,9,10,11,12,13,14,15,16,17,18,19,20])\n",
    "# plt.xticks([2,4,6,8,10,12,14,16,18,20, 22, 24,26,28,30,32,34,36,38,40,42,44,46,48])\n",
    "plt.grid()\n",
    "plt.show()"
   ]
  },
  {
   "cell_type": "code",
   "execution_count": 15,
   "id": "b9041532",
   "metadata": {},
   "outputs": [
    {
     "data": {
      "text/html": [
       "<style>#sk-container-id-1 {color: black;background-color: white;}#sk-container-id-1 pre{padding: 0;}#sk-container-id-1 div.sk-toggleable {background-color: white;}#sk-container-id-1 label.sk-toggleable__label {cursor: pointer;display: block;width: 100%;margin-bottom: 0;padding: 0.3em;box-sizing: border-box;text-align: center;}#sk-container-id-1 label.sk-toggleable__label-arrow:before {content: \"▸\";float: left;margin-right: 0.25em;color: #696969;}#sk-container-id-1 label.sk-toggleable__label-arrow:hover:before {color: black;}#sk-container-id-1 div.sk-estimator:hover label.sk-toggleable__label-arrow:before {color: black;}#sk-container-id-1 div.sk-toggleable__content {max-height: 0;max-width: 0;overflow: hidden;text-align: left;background-color: #f0f8ff;}#sk-container-id-1 div.sk-toggleable__content pre {margin: 0.2em;color: black;border-radius: 0.25em;background-color: #f0f8ff;}#sk-container-id-1 input.sk-toggleable__control:checked~div.sk-toggleable__content {max-height: 200px;max-width: 100%;overflow: auto;}#sk-container-id-1 input.sk-toggleable__control:checked~label.sk-toggleable__label-arrow:before {content: \"▾\";}#sk-container-id-1 div.sk-estimator input.sk-toggleable__control:checked~label.sk-toggleable__label {background-color: #d4ebff;}#sk-container-id-1 div.sk-label input.sk-toggleable__control:checked~label.sk-toggleable__label {background-color: #d4ebff;}#sk-container-id-1 input.sk-hidden--visually {border: 0;clip: rect(1px 1px 1px 1px);clip: rect(1px, 1px, 1px, 1px);height: 1px;margin: -1px;overflow: hidden;padding: 0;position: absolute;width: 1px;}#sk-container-id-1 div.sk-estimator {font-family: monospace;background-color: #f0f8ff;border: 1px dotted black;border-radius: 0.25em;box-sizing: border-box;margin-bottom: 0.5em;}#sk-container-id-1 div.sk-estimator:hover {background-color: #d4ebff;}#sk-container-id-1 div.sk-parallel-item::after {content: \"\";width: 100%;border-bottom: 1px solid gray;flex-grow: 1;}#sk-container-id-1 div.sk-label:hover label.sk-toggleable__label {background-color: #d4ebff;}#sk-container-id-1 div.sk-serial::before {content: \"\";position: absolute;border-left: 1px solid gray;box-sizing: border-box;top: 0;bottom: 0;left: 50%;z-index: 0;}#sk-container-id-1 div.sk-serial {display: flex;flex-direction: column;align-items: center;background-color: white;padding-right: 0.2em;padding-left: 0.2em;position: relative;}#sk-container-id-1 div.sk-item {position: relative;z-index: 1;}#sk-container-id-1 div.sk-parallel {display: flex;align-items: stretch;justify-content: center;background-color: white;position: relative;}#sk-container-id-1 div.sk-item::before, #sk-container-id-1 div.sk-parallel-item::before {content: \"\";position: absolute;border-left: 1px solid gray;box-sizing: border-box;top: 0;bottom: 0;left: 50%;z-index: -1;}#sk-container-id-1 div.sk-parallel-item {display: flex;flex-direction: column;z-index: 1;position: relative;background-color: white;}#sk-container-id-1 div.sk-parallel-item:first-child::after {align-self: flex-end;width: 50%;}#sk-container-id-1 div.sk-parallel-item:last-child::after {align-self: flex-start;width: 50%;}#sk-container-id-1 div.sk-parallel-item:only-child::after {width: 0;}#sk-container-id-1 div.sk-dashed-wrapped {border: 1px dashed gray;margin: 0 0.4em 0.5em 0.4em;box-sizing: border-box;padding-bottom: 0.4em;background-color: white;}#sk-container-id-1 div.sk-label label {font-family: monospace;font-weight: bold;display: inline-block;line-height: 1.2em;}#sk-container-id-1 div.sk-label-container {text-align: center;}#sk-container-id-1 div.sk-container {/* jupyter's `normalize.less` sets `[hidden] { display: none; }` but bootstrap.min.css set `[hidden] { display: none !important; }` so we also need the `!important` here to be able to override the default hidden behavior on the sphinx rendered scikit-learn.org. See: https://github.com/scikit-learn/scikit-learn/issues/21755 */display: inline-block !important;position: relative;}#sk-container-id-1 div.sk-text-repr-fallback {display: none;}</style><div id=\"sk-container-id-1\" class=\"sk-top-container\"><div class=\"sk-text-repr-fallback\"><pre>KMeans(max_iter=100, n_clusters=10, n_init=5, random_state=42)</pre><b>In a Jupyter environment, please rerun this cell to show the HTML representation or trust the notebook. <br />On GitHub, the HTML representation is unable to render, please try loading this page with nbviewer.org.</b></div><div class=\"sk-container\" hidden><div class=\"sk-item\"><div class=\"sk-estimator sk-toggleable\"><input class=\"sk-toggleable__control sk-hidden--visually\" id=\"sk-estimator-id-1\" type=\"checkbox\" checked><label for=\"sk-estimator-id-1\" class=\"sk-toggleable__label sk-toggleable__label-arrow\">KMeans</label><div class=\"sk-toggleable__content\"><pre>KMeans(max_iter=100, n_clusters=10, n_init=5, random_state=42)</pre></div></div></div></div></div>"
      ],
      "text/plain": [
       "KMeans(max_iter=100, n_clusters=10, n_init=5, random_state=42)"
      ]
     },
     "execution_count": 15,
     "metadata": {},
     "output_type": "execute_result"
    }
   ],
   "source": [
    "kmeans = KMeans(\n",
    "            n_clusters=10,\n",
    "            max_iter=100,\n",
    "            n_init=5,\n",
    "        )\n",
    "kmeans.set_params(random_state=42)\n",
    "kmeans.fit(X_tfidf)"
   ]
  },
  {
   "cell_type": "code",
   "execution_count": 16,
   "id": "8bde8569",
   "metadata": {},
   "outputs": [
    {
     "data": {
      "text/plain": [
       "array([2, 0, 2, ..., 2, 0, 1], dtype=int32)"
      ]
     },
     "execution_count": 16,
     "metadata": {},
     "output_type": "execute_result"
    }
   ],
   "source": [
    "clusters = kmeans.labels_\n",
    "clusters"
   ]
  },
  {
   "cell_type": "code",
   "execution_count": 17,
   "id": "5a28c28c",
   "metadata": {},
   "outputs": [
    {
     "name": "stdout",
     "output_type": "stream",
     "text": [
      "\n",
      "Cluster 0\n",
      "great,service,best,delicious,restaurant,like,time,good,place,food\n",
      "\n",
      "Cluster 1\n",
      "pancake,food,brunch,great,place,good,toast,egg,coffee,breakfast\n",
      "\n",
      "Cluster 2\n",
      "friendly,nice,beer,bar,drink,service,good,place,food,great\n",
      "\n",
      "Cluster 3\n",
      "bun,like,time,cheese,food,great,place,good,fry,burger\n",
      "\n",
      "Cluster 4\n",
      "time,pepperoni,topping,cheese,great,slice,place,good,crust,pizza\n",
      "\n",
      "Cluster 5\n",
      "didnt,ordered,server,service,came,time,minute,table,order,food\n",
      "\n",
      "Cluster 6\n",
      "food,fry,lunch,great,chicken,bread,place,cheese,good,sandwich\n",
      "\n",
      "Cluster 7\n",
      "time,fish,service,fresh,great,tuna,good,place,roll,sushi\n",
      "\n",
      "Cluster 8\n",
      "margarita,ordered,great,chip,place,food,good,mexican,salsa,taco\n",
      "\n",
      "Cluster 9\n",
      "spicy,dish,noodle,thai,sauce,food,rice,fried,good,chicken\n"
     ]
    }
   ],
   "source": [
    "def get_top_keywords(X, n_terms):\n",
    "    \"\"\"This function returns the keywords for each centroid of the KMeans\"\"\"\n",
    "    df = pd.DataFrame(X.todense()).groupby(clusters).mean() # groups the TF-IDF vector by cluster\n",
    "    terms = vectorizer.get_feature_names_out() # access tf-idf terms\n",
    "    for i,r in df.iterrows():\n",
    "        print('\\nCluster {}'.format(i))\n",
    "        print(','.join([terms[t] for t in np.argsort(r)[-n_terms:]])) # for each row of the dataframe, find the n terms that have the highest tf idf score\n",
    "            \n",
    "get_top_keywords(X_tfidf, 10)"
   ]
  },
  {
   "cell_type": "code",
   "execution_count": 18,
   "id": "0f99abb2",
   "metadata": {},
   "outputs": [
    {
     "name": "stdout",
     "output_type": "stream",
     "text": [
      "\n",
      "Cluster 0\n",
      "best,good,like,flavor,coffee,chocolate,cake,place,glazed,donut\n",
      "\n",
      "Cluster 1\n",
      "friendly,mexican,price,like,time,restaurant,service,place,good,food\n",
      "\n",
      "Cluster 2\n",
      "bartender,hour,happy,food,great,place,good,drink,beer,bar\n",
      "\n",
      "Cluster 3\n",
      "food,good,curry,pad,soup,broth,ramen,pho,noodle,thai\n",
      "\n",
      "Cluster 4\n",
      "time,service,fish,great,fresh,tuna,good,place,roll,sushi\n",
      "\n",
      "Cluster 5\n",
      "food,fry,chicken,great,lunch,place,bread,cheese,good,sandwich\n",
      "\n",
      "Cluster 6\n",
      "food,meal,restaurant,delicious,dish,sauce,ordered,shrimp,salad,good\n",
      "\n",
      "Cluster 7\n",
      "wait,service,asked,said,came,time,table,food,order,minute\n",
      "\n",
      "Cluster 8\n",
      "love,amazing,atmosphere,staff,friendly,good,place,service,food,great\n",
      "\n",
      "Cluster 9\n",
      "time,pepperoni,great,topping,cheese,slice,place,good,crust,pizza\n",
      "\n",
      "Cluster 10\n",
      "best,delicious,im,food,love,good,like,coffee,time,place\n",
      "\n",
      "Cluster 11\n",
      "got,place,rice,hot,ordered,sauce,food,good,fried,chicken\n",
      "\n",
      "Cluster 12\n",
      "ordered,tortilla,great,chip,place,food,mexican,good,salsa,taco\n",
      "\n",
      "Cluster 13\n",
      "biscuit,bacon,place,pancake,good,brunch,coffee,toast,egg,breakfast\n",
      "\n",
      "Cluster 14\n",
      "bun,like,time,cheese,food,great,place,good,fry,burger\n"
     ]
    }
   ],
   "source": [
    "kmeans = KMeans(\n",
    "            n_clusters=15,\n",
    "            max_iter=100,\n",
    "            n_init=5,\n",
    "        )\n",
    "kmeans.set_params(random_state=42)\n",
    "kmeans.fit(X_tfidf)\n",
    "clusters = kmeans.labels_\n",
    "get_top_keywords(X_tfidf, 10)"
   ]
  },
  {
   "cell_type": "code",
   "execution_count": 20,
   "id": "7d452ce0",
   "metadata": {},
   "outputs": [
    {
     "name": "stdout",
     "output_type": "stream",
     "text": [
      "\n",
      "Cluster 0\n",
      "dont,bar,location,im,love,food,good,like,time,place\n",
      "\n",
      "Cluster 1\n",
      "time,pepperoni,great,cheese,topping,slice,place,good,crust,pizza\n",
      "\n",
      "Cluster 2\n",
      "steak,menu,delicious,meal,restaurant,ordered,dinner,dish,good,salad\n",
      "\n",
      "Cluster 3\n",
      "place,meat,wing,rib,brisket,sauce,good,bbq,mac,cheese\n",
      "\n",
      "Cluster 4\n",
      "drink,menu,nice,place,food,good,great,selection,bar,beer\n",
      "\n",
      "Cluster 5\n",
      "nice,iced,love,breakfast,good,latte,great,place,shop,coffee\n",
      "\n",
      "Cluster 6\n",
      "staff,amazing,friendly,atmosphere,good,drink,place,service,food,great\n",
      "\n",
      "Cluster 7\n",
      "drink,service,asked,said,came,time,table,food,order,minute\n",
      "\n",
      "Cluster 8\n",
      "price,friendly,staff,like,time,restaurant,service,place,good,food\n",
      "\n",
      "Cluster 9\n",
      "food,place,bacon,good,biscuit,pancake,brunch,toast,egg,breakfast\n",
      "\n",
      "Cluster 10\n",
      "tortilla,pastor,ordered,fish,great,food,salsa,place,good,taco\n",
      "\n",
      "Cluster 11\n",
      "pho,soup,food,sauce,spicy,good,noodle,fried,rice,chicken\n",
      "\n",
      "Cluster 12\n",
      "ordered,food,place,crawfish,fried,good,seafood,crab,oyster,shrimp\n",
      "\n",
      "Cluster 13\n",
      "place,dish,good,chicken,restaurant,noodle,food,curry,pad,thai\n",
      "\n",
      "Cluster 14\n",
      "time,service,fish,great,fresh,tuna,good,place,roll,sushi\n",
      "\n",
      "Cluster 15\n",
      "food,cheese,fry,great,lunch,place,chicken,bread,good,sandwich\n",
      "\n",
      "Cluster 16\n",
      "bun,like,cheese,time,food,great,place,good,fry,burger\n",
      "\n",
      "Cluster 17\n",
      "cinnamon,good,best,like,flavor,chocolate,cake,place,glazed,donut\n",
      "\n",
      "Cluster 18\n",
      "restaurant,enchilada,margarita,taco,good,food,chip,burrito,salsa,mexican\n",
      "\n",
      "Cluster 19\n",
      "service,menu,place,food,bar,good,great,drink,happy,hour\n"
     ]
    }
   ],
   "source": [
    "kmeans = KMeans(\n",
    "            n_clusters=20,\n",
    "            max_iter=100,\n",
    "            n_init=5,\n",
    "        )\n",
    "kmeans.set_params(random_state=42)\n",
    "kmeans.fit(X_tfidf)\n",
    "clusters = kmeans.labels_\n",
    "get_top_keywords(X_tfidf, 10)"
   ]
  },
  {
   "cell_type": "code",
   "execution_count": null,
   "id": "dab1b437",
   "metadata": {},
   "outputs": [],
   "source": []
  }
 ],
 "metadata": {
  "kernelspec": {
   "display_name": "Python 3 (ipykernel)",
   "language": "python",
   "name": "python3"
  },
  "language_info": {
   "codemirror_mode": {
    "name": "ipython",
    "version": 3
   },
   "file_extension": ".py",
   "mimetype": "text/x-python",
   "name": "python",
   "nbconvert_exporter": "python",
   "pygments_lexer": "ipython3",
   "version": "3.10.4"
  }
 },
 "nbformat": 4,
 "nbformat_minor": 5
}
