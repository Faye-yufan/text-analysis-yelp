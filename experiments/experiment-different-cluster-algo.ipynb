{
 "cells": [
  {
   "cell_type": "code",
   "execution_count": 8,
   "id": "e632ec23",
   "metadata": {},
   "outputs": [],
   "source": [
    "import numpy as np\n",
    "import pandas as pd\n",
    "\n",
    "import matplotlib.pyplot as plt\n",
    "import seaborn as sns\n",
    "from wordcloud import WordCloud, STOPWORDS, ImageColorGenerator\n",
    "\n",
    "from gensim.parsing.preprocessing import remove_stopwords, STOPWORDS\n",
    "from nltk.stem.snowball import SnowballStemmer\n",
    "from nltk.stem.wordnet import WordNetLemmatizer\n",
    "from sklearn.feature_extraction.text import TfidfVectorizer\n",
    "from sklearn import metrics\n",
    "\n",
    "import json\n",
    "import re\n",
    "import string\n",
    "import nltk\n",
    "\n",
    "from tqdm import tqdm\n",
    "import joblib"
   ]
  },
  {
   "cell_type": "code",
   "execution_count": 9,
   "id": "61fe732d",
   "metadata": {},
   "outputs": [],
   "source": [
    "def preprocess_text(text, stem=False):\n",
    "    text = text.lower()\n",
    "    # delete special characters\n",
    "    text = re.sub(r'[^a-zA-Z0-9 ]', '', text)\n",
    "    # delete links\n",
    "    text = re.sub(r'http\\S+', '', text)\n",
    "    # delete multispaces\n",
    "    text = re.sub('\\s\\s+', ' ', text)\n",
    "    # delete digits\n",
    "    text = re.sub(r'[0-9]+', '', text)\n",
    "    # delete stop words\n",
    "    text = text.split(' ')\n",
    "    text = ' '.join([word for word in text if not word in STOPWORDS])\n",
    "    \n",
    "    text = remove_stopwords(text)\n",
    "    if stem:\n",
    "        stem = SnowballStemmer(language='english')\n",
    "        text = ' '.join([stem.stem(word) for word in text.split(' ')])\n",
    "    else:\n",
    "        lemmatizer = WordNetLemmatizer()\n",
    "        text = ' '.join([lemmatizer.lemmatize(word) for word in text.split(' ')])\n",
    "    text = text.strip()\n",
    "    return text\n",
    "\n",
    "import os.path\n",
    "\n",
    "if not os.path.isfile('yelp_review_nostop_punc_engOnly_lem.csv') :\n",
    "    yelp = pd.read_csv('yelp_review.csv')\n",
    "    if 'Unnamed: 0' in yelp.columns:\n",
    "        yelp = yelp.drop('Unnamed: 0', axis=1)\n",
    "    for i in tqdm(range(len(yelp))):\n",
    "        yelp.loc[i,'text']  = preprocess_text(yelp.loc[i,'text'], stem=False)\n",
    "    yelp.to_csv('yelp_review_nostop_punc_engOnly_lem.csv')\n",
    "\n",
    "yelp = pd.read_csv('yelp_review_nostop_punc_engOnly_lem.csv')"
   ]
  },
  {
   "cell_type": "code",
   "execution_count": 10,
   "id": "ed177652",
   "metadata": {},
   "outputs": [
    {
     "data": {
      "text/plain": [
       "(100, 234)"
      ]
     },
     "execution_count": 10,
     "metadata": {},
     "output_type": "execute_result"
    }
   ],
   "source": [
    "import random\n",
    "from random import sample\n",
    "\n",
    "random.seed(5)\n"
   ]
  },
  {
   "cell_type": "code",
   "execution_count": 17,
   "id": "107f7bb6",
   "metadata": {},
   "outputs": [
    {
     "name": "stdout",
     "output_type": "stream",
     "text": [
      "100\n",
      "Kmeans: 0.03471732139587402 seconds \n",
      "Agglomerative: 0.001583099365234375 seconds \n",
      "1100\n",
      "Kmeans: 0.08223414421081543 seconds \n",
      "Agglomerative: 0.31906604766845703 seconds \n",
      "2100\n",
      "Kmeans: 0.14761686325073242 seconds \n",
      "Agglomerative: 1.8373379707336426 seconds \n",
      "3100\n",
      "Kmeans: 0.22657108306884766 seconds \n",
      "Agglomerative: 5.803086042404175 seconds \n",
      "4100\n",
      "Kmeans: 0.2747797966003418 seconds \n",
      "Agglomerative: 11.448344945907593 seconds \n",
      "5100\n",
      "Kmeans: 0.31874728202819824 seconds \n",
      "Agglomerative: 19.68850088119507 seconds \n",
      "6100\n",
      "Kmeans: 0.47393321990966797 seconds \n",
      "Agglomerative: 30.009164094924927 seconds \n",
      "7100\n",
      "Kmeans: 0.42559385299682617 seconds \n",
      "Agglomerative: 43.79142498970032 seconds \n",
      "8100\n",
      "Kmeans: 0.6917083263397217 seconds \n",
      "Agglomerative: 61.44939589500427 seconds \n",
      "9100\n",
      "Kmeans: 0.5446689128875732 seconds \n",
      "Agglomerative: 81.42019009590149 seconds \n"
     ]
    }
   ],
   "source": [
    "import time\n",
    "from sklearn.cluster import KMeans, AgglomerativeClustering\n",
    "\n",
    "df = pd.DataFrame(columns=['size', 'kmeans', 'agglomerative'])\n",
    "for datasize in range(100, 10001, 1000):\n",
    "    corpus = sample(yelp[\"text\"].apply(str).to_list(), datasize)\n",
    "\n",
    "    vectorizer = TfidfVectorizer(\n",
    "        max_df=0.5,\n",
    "        min_df=5,\n",
    "        stop_words=\"english\",\n",
    "        )\n",
    "    X_tfidf = vectorizer.fit_transform(corpus)\n",
    "    \n",
    "    print(datasize)\n",
    "    start_time = time.time()\n",
    "    kmeans = KMeans(\n",
    "                n_clusters=10,\n",
    "                max_iter=100,\n",
    "                n_init=5,\n",
    "            )\n",
    "    kmeans.set_params(random_state=42)\n",
    "    kmeans.fit(X_tfidf)\n",
    "    kmeans_time = time.time() - start_time\n",
    "    print(\"Kmeans: %s seconds \" % (time.time() - start_time))\n",
    "    \n",
    "    start_time = time.time()\n",
    "    agg = AgglomerativeClustering(distance_threshold=None, n_clusters=10)\n",
    "    agg.fit(X_tfidf.toarray())\n",
    "    agg_time = time.time() - start_time\n",
    "    print(\"Agglomerative: %s seconds \" % (time.time() - start_time))\n",
    "    df.loc[len(df)] = [datasize, kmeans_time, agg_time]"
   ]
  },
  {
   "cell_type": "code",
   "execution_count": 18,
   "id": "2aad8a36",
   "metadata": {},
   "outputs": [
    {
     "data": {
      "text/html": [
       "<div>\n",
       "<style scoped>\n",
       "    .dataframe tbody tr th:only-of-type {\n",
       "        vertical-align: middle;\n",
       "    }\n",
       "\n",
       "    .dataframe tbody tr th {\n",
       "        vertical-align: top;\n",
       "    }\n",
       "\n",
       "    .dataframe thead th {\n",
       "        text-align: right;\n",
       "    }\n",
       "</style>\n",
       "<table border=\"1\" class=\"dataframe\">\n",
       "  <thead>\n",
       "    <tr style=\"text-align: right;\">\n",
       "      <th></th>\n",
       "      <th>size</th>\n",
       "      <th>kmeans</th>\n",
       "      <th>agglomerative</th>\n",
       "    </tr>\n",
       "  </thead>\n",
       "  <tbody>\n",
       "    <tr>\n",
       "      <th>0</th>\n",
       "      <td>100.0</td>\n",
       "      <td>0.034714</td>\n",
       "      <td>0.001582</td>\n",
       "    </tr>\n",
       "    <tr>\n",
       "      <th>1</th>\n",
       "      <td>1100.0</td>\n",
       "      <td>0.082231</td>\n",
       "      <td>0.319064</td>\n",
       "    </tr>\n",
       "    <tr>\n",
       "      <th>2</th>\n",
       "      <td>2100.0</td>\n",
       "      <td>0.147617</td>\n",
       "      <td>1.837337</td>\n",
       "    </tr>\n",
       "    <tr>\n",
       "      <th>3</th>\n",
       "      <td>3100.0</td>\n",
       "      <td>0.226567</td>\n",
       "      <td>5.803085</td>\n",
       "    </tr>\n",
       "    <tr>\n",
       "      <th>4</th>\n",
       "      <td>4100.0</td>\n",
       "      <td>0.274779</td>\n",
       "      <td>11.448344</td>\n",
       "    </tr>\n",
       "    <tr>\n",
       "      <th>5</th>\n",
       "      <td>5100.0</td>\n",
       "      <td>0.318746</td>\n",
       "      <td>19.688498</td>\n",
       "    </tr>\n",
       "    <tr>\n",
       "      <th>6</th>\n",
       "      <td>6100.0</td>\n",
       "      <td>0.473929</td>\n",
       "      <td>30.009160</td>\n",
       "    </tr>\n",
       "    <tr>\n",
       "      <th>7</th>\n",
       "      <td>7100.0</td>\n",
       "      <td>0.425592</td>\n",
       "      <td>43.791421</td>\n",
       "    </tr>\n",
       "    <tr>\n",
       "      <th>8</th>\n",
       "      <td>8100.0</td>\n",
       "      <td>0.691706</td>\n",
       "      <td>61.449392</td>\n",
       "    </tr>\n",
       "    <tr>\n",
       "      <th>9</th>\n",
       "      <td>9100.0</td>\n",
       "      <td>0.544668</td>\n",
       "      <td>81.420187</td>\n",
       "    </tr>\n",
       "  </tbody>\n",
       "</table>\n",
       "</div>"
      ],
      "text/plain": [
       "     size    kmeans  agglomerative\n",
       "0   100.0  0.034714       0.001582\n",
       "1  1100.0  0.082231       0.319064\n",
       "2  2100.0  0.147617       1.837337\n",
       "3  3100.0  0.226567       5.803085\n",
       "4  4100.0  0.274779      11.448344\n",
       "5  5100.0  0.318746      19.688498\n",
       "6  6100.0  0.473929      30.009160\n",
       "7  7100.0  0.425592      43.791421\n",
       "8  8100.0  0.691706      61.449392\n",
       "9  9100.0  0.544668      81.420187"
      ]
     },
     "execution_count": 18,
     "metadata": {},
     "output_type": "execute_result"
    }
   ],
   "source": [
    "df"
   ]
  },
  {
   "cell_type": "code",
   "execution_count": 20,
   "id": "923f8485",
   "metadata": {},
   "outputs": [
    {
     "data": {
      "image/png": "[encoded data removed]",
      "text/plain": [
       "<Figure size 640x480 with 1 Axes>"
      ]
     },
     "metadata": {},
     "output_type": "display_data"
    }
   ],
   "source": [
    "import matplotlib.pyplot as plt\n",
    "\n",
    "plt.plot(df['size'], df['kmeans'], label ='kmeans')\n",
    "plt.plot(df['size'], df['agglomerative'], '-.', label ='agglomerative')\n",
    "\n",
    "plt.xlabel(\"data size\")\n",
    "plt.ylabel(\"Time(s)\")\n",
    "plt.legend()\n",
    "plt.title('Time cost compare')\n",
    "plt.show()"
   ]
  },
  {
   "cell_type": "code",
   "execution_count": null,
   "id": "9cac1cec",
   "metadata": {},
   "outputs": [],
   "source": []
  }
 ],
 "metadata": {
  "kernelspec": {
   "display_name": "Python 3 (ipykernel)",
   "language": "python",
   "name": "python3"
  },
  "language_info": {
   "codemirror_mode": {
    "name": "ipython",
    "version": 3
   },
   "file_extension": ".py",
   "mimetype": "text/x-python",
   "name": "python",
   "nbconvert_exporter": "python",
   "pygments_lexer": "ipython3",
   "version": "3.10.4"
  }
 },
 "nbformat": 4,
 "nbformat_minor": 5
}
